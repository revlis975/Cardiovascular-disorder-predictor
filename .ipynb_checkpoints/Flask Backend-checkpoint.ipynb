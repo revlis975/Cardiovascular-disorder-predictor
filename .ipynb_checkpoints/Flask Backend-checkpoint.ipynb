{
 "cells": [
  {
   "cell_type": "code",
   "execution_count": 1,
   "metadata": {},
   "outputs": [
    {
     "name": "stdout",
     "output_type": "stream",
     "text": [
      " * Serving Flask app \"__main__\" (lazy loading)\n",
      " * Environment: production\n",
      "   WARNING: This is a development server. Do not use it in a production deployment.\n",
      "   Use a production WSGI server instead.\n",
      " * Debug mode: on\n"
     ]
    },
    {
     "name": "stderr",
     "output_type": "stream",
     "text": [
      "C:\\Users\\HP\\anaconda3\\lib\\site-packages\\sklearn\\externals\\joblib\\__init__.py:15: FutureWarning: sklearn.externals.joblib is deprecated in 0.21 and will be removed in 0.23. Please import this functionality directly from joblib, which can be installed with: pip install joblib. If this warning is raised when loading pickled models, you may need to re-serialize those models with scikit-learn 0.21+.\n",
      "  warnings.warn(msg, category=FutureWarning)\n",
      " * Restarting with windowsapi reloader\n"
     ]
    },
    {
     "ename": "SystemExit",
     "evalue": "1",
     "output_type": "error",
     "traceback": [
      "An exception has occurred, use %tb to see the full traceback.\n",
      "\u001b[1;31mSystemExit\u001b[0m\u001b[1;31m:\u001b[0m 1\n"
     ]
    },
    {
     "name": "stderr",
     "output_type": "stream",
     "text": [
      "C:\\Users\\HP\\anaconda3\\lib\\site-packages\\IPython\\core\\interactiveshell.py:3339: UserWarning: To exit: use 'exit', 'quit', or Ctrl-D.\n",
      "  warn(\"To exit: use 'exit', 'quit', or Ctrl-D.\", stacklevel=1)\n"
     ]
    }
   ],
   "source": [
    "from flask import Flask,render_template,url_for,request\n",
    "import pandas as pd\n",
    "# from sklearn.externals import joblib\n",
    "import numpy as np\n",
    "import keras\n",
    "app = Flask(__name__)\n",
    "@app.route('/')\n",
    "def home():\n",
    "    return render_template('home.html')\n",
    "def getParameters():\n",
    "    parameters = []\n",
    "    #parameters.append(request.form(‘name’))\n",
    "    parameters.append(request.form['age'])\n",
    "    parameters.append(request.form['sex'])\n",
    "    parameters.append(request.form['cp'])\n",
    "    parameters.append(request.form['trestbps'])\n",
    "    parameters.append(request.form['chol'])\n",
    "    parameters.append(request.form['fbs'])\n",
    "    parameters.append(request.form['restecg'])\n",
    "    parameters.append(request.form['thalach'])\n",
    "    parameters.append(request.form['exang'])\n",
    "    parameters.append(request.form['oldpeak'])\n",
    "    parameters.append(request.form['slope'])\n",
    "    parameters.append(request.form['ca'])\n",
    "    parameters.append(request.form['thal'])\n",
    "    return parameters\n",
    "@app.route('/predict',methods=['POST'])\n",
    "def predict():\n",
    "    classifier = keras.models.load_model('path/to/location')\n",
    "    if request.method == 'POST':\n",
    "        parameters = getParameters()\n",
    "        print(parameters)\n",
    "        keys = ['age', 'sex', 'cp', 'trestbps', 'chol', 'fbs', 'restecg',\n",
    "       'thalach', 'exang', 'oldpeak', 'slope', 'ca', 'thal', 'target']\n",
    "        dictionary = dict(zip(keys, parameters))\n",
    "#         inputFeature = np.asarray(parameters).reshape(1,-1)\n",
    "        X_user = pd.DataFrame(\n",
    "        dictionary,index=[0])\n",
    "#         my_prediction = clfr.predict(inputFeature)\n",
    "        my_prediction = classifier.predict(X_user)\n",
    "\n",
    "    return render_template('result.html',prediction = float(my_prediction[0])*100)\n",
    "if __name__ == '__main__':\n",
    "    app.run(debug=True)"
   ]
  },
  {
   "cell_type": "code",
   "execution_count": null,
   "metadata": {},
   "outputs": [],
   "source": []
  }
 ],
 "metadata": {
  "kernelspec": {
   "display_name": "Python 3",
   "language": "python",
   "name": "python3"
  },
  "language_info": {
   "codemirror_mode": {
    "name": "ipython",
    "version": 3
   },
   "file_extension": ".py",
   "mimetype": "text/x-python",
   "name": "python",
   "nbconvert_exporter": "python",
   "pygments_lexer": "ipython3",
   "version": "3.7.6"
  }
 },
 "nbformat": 4,
 "nbformat_minor": 4
}
